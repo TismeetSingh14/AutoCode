{
 "cells": [
  {
   "cell_type": "code",
   "execution_count": 5,
   "metadata": {},
   "outputs": [
    {
     "name": "stdout",
     "output_type": "stream",
     "text": [
      "{'sha1', 'md5', 'sha3_256', 'sha384', 'shake_128', 'sha256', 'blake2b', 'sha3_384', 'sha3_512', 'shake_256', 'sha224', 'sha512', 'sha3_224', 'blake2s'}\n"
     ]
    }
   ],
   "source": [
    "import hashlib \n",
    "# print(hashlib.algorithms_available)\n",
    "print(hashlib.algorithms_guaranteed)"
   ]
  },
  {
   "cell_type": "code",
   "execution_count": 6,
   "metadata": {},
   "outputs": [
    {
     "name": "stdout",
     "output_type": "stream",
     "text": [
      "b',\\xe1\\xff7\\xe7\\xa0\\xe7\\xb2\\xb4\\xf9E!\\xf2\\xd9\\xb8;\\xdf\\x7f\\x10\\xa8\\x1ad1\\xc0\\x7f=\\xbb\\xb1\\xf7\\xeb7\\xcf'\n"
     ]
    }
   ],
   "source": [
    "import hashlib\n",
    "# Initialize the empty message using SHA-256\n",
    "message = hashlib.sha256()\n",
    " \n",
    "# Update the message using byte strings\n",
    "message.update(b'Hello there,')\n",
    "message.update(b'how are you?')\n",
    " \n",
    "# Print the message digest\n",
    "print(message.digest())"
   ]
  },
  {
   "cell_type": "code",
   "execution_count": 7,
   "metadata": {},
   "outputs": [],
   "source": [
    "!cd datasets"
   ]
  },
  {
   "cell_type": "code",
   "execution_count": 10,
   "metadata": {},
   "outputs": [
    {
     "name": "stderr",
     "output_type": "stream",
     "text": [
      "'ls' is not recognized as an internal or external command,\n",
      "operable program or batch file.\n"
     ]
    }
   ],
   "source": [
    "!"
   ]
  },
  {
   "cell_type": "code",
   "execution_count": 11,
   "metadata": {},
   "outputs": [
    {
     "name": "stdout",
     "output_type": "stream",
     "text": [
      "c:\\Users\\hp\\Desktop\\BTP Version_1\n"
     ]
    }
   ],
   "source": [
    "!echo %cd%"
   ]
  },
  {
   "cell_type": "code",
   "execution_count": 13,
   "metadata": {},
   "outputs": [
    {
     "name": "stdout",
     "output_type": "stream",
     "text": [
      "c:\\Users\\hp\\Desktop\\BTP Version_1\n"
     ]
    }
   ],
   "source": [
    "!cd datasets\n",
    "!echo %cd%\n"
   ]
  },
  {
   "cell_type": "code",
   "execution_count": 14,
   "metadata": {},
   "outputs": [
    {
     "name": "stderr",
     "output_type": "stream",
     "text": [
      "'zip' is not recognized as an internal or external command,\n",
      "operable program or batch file.\n"
     ]
    }
   ],
   "source": [
    "!zip -F datasets/pix2code_datasets.zip --out datasets/datasets.zip"
   ]
  },
  {
   "cell_type": "code",
   "execution_count": 1,
   "metadata": {},
   "outputs": [],
   "source": [
    "import numpy as np"
   ]
  },
  {
   "cell_type": "code",
   "execution_count": 28,
   "metadata": {},
   "outputs": [],
   "source": [
    "x = np.array([3,1,44444342,566565653, 3455455332,5,6,7,8,9,0,4,3,6,7,8,6,3,5,5])\n",
    "x = np.array2string(x, precision=2, separator=',',\n",
    "                      max_line_width=4545)\n"
   ]
  },
  {
   "cell_type": "code",
   "execution_count": 29,
   "metadata": {},
   "outputs": [
    {
     "data": {
      "text/plain": [
       "75"
      ]
     },
     "execution_count": 29,
     "metadata": {},
     "output_type": "execute_result"
    }
   ],
   "source": [
    "np.get_printoptions()['linewidth']"
   ]
  },
  {
   "cell_type": "code",
   "execution_count": 30,
   "metadata": {},
   "outputs": [
    {
     "name": "stdout",
     "output_type": "stream",
     "text": [
      "[         3,         1,  44444342, 566565653,3455455332,         5,         6,         7,         8,         9,         0,         4,         3,         6,         7,         8,         6,         3,         5,         5]\n"
     ]
    }
   ],
   "source": [
    "print(x)"
   ]
  },
  {
   "cell_type": "code",
   "execution_count": 1,
   "metadata": {},
   "outputs": [
    {
     "data": {
      "text/plain": [
       "(None, 16, 16)"
      ]
     },
     "execution_count": 1,
     "metadata": {},
     "output_type": "execute_result"
    }
   ],
   "source": [
    "from keras.models import Sequential \n",
    "from keras.layers import Activation, Dense, RepeatVector "
   ]
  },
  {
   "cell_type": "code",
   "execution_count": 2,
   "metadata": {},
   "outputs": [
    {
     "name": "stdout",
     "output_type": "stream",
     "text": [
      "(None, 1024)\n",
      "(None, 48, 1024)\n"
     ]
    }
   ],
   "source": [
    "model = Sequential() \n",
    "layer_1 = Dense(1024, input_shape=(8,)) \n",
    "model.add(layer_1) \n",
    "layer_2 = RepeatVector(48) \n",
    "model.add(layer_2) \n",
    "\n",
    "print(layer_2.input_shape) \n",
    "print(layer_2.output_shape)"
   ]
  },
  {
   "cell_type": "code",
   "execution_count": 4,
   "metadata": {},
   "outputs": [
    {
     "name": "stdout",
     "output_type": "stream",
     "text": [
      "Model: \"sequential_1\"\n",
      "_________________________________________________________________\n",
      " Layer (type)                Output Shape              Param #   \n",
      "=================================================================\n",
      " dense_1 (Dense)             (None, 1024)              9216      \n",
      "                                                                 \n",
      " repeat_vector_1 (RepeatVect  (None, 48, 1024)         0         \n",
      " or)                                                             \n",
      "                                                                 \n",
      "=================================================================\n",
      "Total params: 9,216\n",
      "Trainable params: 9,216\n",
      "Non-trainable params: 0\n",
      "_________________________________________________________________\n"
     ]
    }
   ],
   "source": [
    "model.summary()"
   ]
  },
  {
   "cell_type": "code",
   "execution_count": null,
   "metadata": {},
   "outputs": [],
   "source": []
  }
 ],
 "metadata": {
  "kernelspec": {
   "display_name": "Python 3.10.5 64-bit",
   "language": "python",
   "name": "python3"
  },
  "language_info": {
   "codemirror_mode": {
    "name": "ipython",
    "version": 3
   },
   "file_extension": ".py",
   "mimetype": "text/x-python",
   "name": "python",
   "nbconvert_exporter": "python",
   "pygments_lexer": "ipython3",
   "version": "3.10.5"
  },
  "orig_nbformat": 4,
  "vscode": {
   "interpreter": {
    "hash": "63963b3f4c440940f0b94a3100916033a226cb4f45979123153792d60aa56d6a"
   }
  }
 },
 "nbformat": 4,
 "nbformat_minor": 2
}
